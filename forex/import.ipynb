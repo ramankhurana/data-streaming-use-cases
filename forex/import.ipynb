{
 "cells": [
  {
   "attachments": {},
   "cell_type": "markdown",
   "metadata": {},
   "source": [
    "# Importing existing data"
   ]
  },
  {
   "cell_type": "code",
   "execution_count": 119,
   "metadata": {},
   "outputs": [
    {
     "name": "stdout",
     "output_type": "stream",
     "text": [
      "Refit Installed, You can now run the following to import REFIT\n",
      "from refit import Refit\n"
     ]
    }
   ],
   "source": [
    "!refit_init"
   ]
  },
  {
   "cell_type": "code",
   "execution_count": null,
   "metadata": {},
   "outputs": [],
   "source": [
    "!pip install --upgrade protobuf"
   ]
  },
  {
   "cell_type": "code",
   "execution_count": 120,
   "metadata": {
    "scrolled": true
   },
   "outputs": [],
   "source": [
    "from refit import Refit\n",
    "import pandas as pd\n",
    "import datetime\n",
    "from random import randrange"
   ]
  },
  {
   "cell_type": "code",
   "execution_count": 121,
   "metadata": {
    "pycharm": {
     "name": "#%%\n"
    }
   },
   "outputs": [],
   "source": [
    "project_guid = \"e2b6e5b3-cab6-47cc-a753-e655d3ac8ef1\"\n",
    "refit = Refit(project_guid)\n"
   ]
  },
  {
   "cell_type": "code",
   "execution_count": 122,
   "metadata": {},
   "outputs": [],
   "source": [
    "import pandas as pd\n",
    "from sklearn.datasets import load_iris\n",
    "from sklearn.model_selection import train_test_split\n",
    "from sklearn.ensemble import RandomForestClassifier\n",
    "from sklearn.linear_model import LinearRegression\n",
    "from sklearn import metrics\n",
    "import matplotlib.pyplot as plt\n",
    "import numpy as np\n",
    "\n"
   ]
  },
  {
   "cell_type": "code",
   "execution_count": null,
   "metadata": {},
   "outputs": [],
   "source": [
    "import requests\n",
    "import time\n",
    "delay_ = 175 ## seconds \n",
    "increament=0\n",
    "\n",
    "def stream_usd(increament, delay=175):\n",
    "    url = 'https://www.alphavantage.co/query?function=CURRENCY_EXCHANGE_RATE&from_currency=EUR&to_currency=USD&apikey=WEJ426P3DZIP5YNK'\n",
    "    r = requests.get(url)\n",
    "    data = r.json()\n",
    "    usd_val = data[\"Realtime Currency Exchange Rate\"][\"9. Ask Price\"]\n",
    "    timestamp = pd.Timestamp (data[\"Realtime Currency Exchange Rate\"][\"6. Last Refreshed\"])\n",
    "    timestamp, usd_val\n",
    "    id='EURtoUSD'\n",
    "    pd.Timestamp(data[\"Realtime Currency Exchange Rate\"][\"6. Last Refreshed\"])\n",
    "    data_row = str(increament) + \",\"+id+\",\" + str (timestamp) +\",\"+ usd_val\n",
    "    #print(data_row)\n",
    "    \n",
    "    increament=increament+1\n",
    "    #print (increament)\n",
    "    refit.stream_data(data_row)\n",
    "    time.sleep(delay)\n",
    "    if usd_val > 1.096:\n",
    "        return (increament)\n",
    "    return (stream_usd(increament, delay_))\n",
    "\n"
   ]
  },
  {
   "cell_type": "code",
   "execution_count": null,
   "metadata": {},
   "outputs": [],
   "source": [
    "stream_usd(0,delay_)\n"
   ]
  },
  {
   "cell_type": "code",
   "execution_count": null,
   "metadata": {},
   "outputs": [],
   "source": []
  }
 ],
 "metadata": {
  "kernelspec": {
   "display_name": "Python 3",
   "language": "python",
   "name": "python3"
  },
  "language_info": {
   "codemirror_mode": {
    "name": "ipython",
    "version": 3
   },
   "file_extension": ".py",
   "mimetype": "text/x-python",
   "name": "python",
   "nbconvert_exporter": "python",
   "pygments_lexer": "ipython3",
   "version": "3.9.6"
  }
 },
 "nbformat": 4,
 "nbformat_minor": 4
}
